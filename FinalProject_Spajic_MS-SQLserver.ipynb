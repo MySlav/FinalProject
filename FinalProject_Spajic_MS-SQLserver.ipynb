{
 "cells": [
  {
   "cell_type": "markdown",
   "metadata": {},
   "source": [
    "# Introduction course in Data Science  - Final project\n",
    "\n",
    "\n",
    "![Algebra](https://repozitorij.algebra.hr/sites/repozitorij.algebra.hr/files/algebra_subbrand_vu_color-black_h_1.png)\n",
    "\n",
    "=========================================================================================================================\n",
    "\n",
    "*made by Mislav Spajić, 02. 2020.*   \n",
    "\n",
    "---------------------------------------------------------------------------------------------------------------"
   ]
  },
  {
   "cell_type": "markdown",
   "metadata": {},
   "source": [
    "## Table of Contents\n",
    "\n",
    "[1. Importing Python modules and initial setup](#import)\n",
    "\n",
    "[2. Connecting SQL server to Jupyter notebook](#connect)\n",
    "\n",
    "[3. Columns explanation](#explanation)\n",
    "\n",
    "[4. Exploring and cleaning data](#explore_main)\n",
    "\n",
    "   > [4.1. Basic info about data](#explore_basic)   \n",
    "   > [4.2. Categorical variables](#explore_cat)    \n",
    "   > [4.3. Numerical variables](#explore_num)\n",
    "   \n",
    "[5. Data analysis and visualisation](#dvad_main)\n",
    "\n",
    "   > [5.1. Distribution of numericals](#dvad_distributionn)    \n",
    "   > [5.2. Distribution of categoricals](#dvad_distributionc)    \n",
    "   > [5.3. Variable relationship](#dvad_rel)\n",
    "  \n",
    "   \n",
    "---------------------------------------------------------------------\n",
    "   \n",
    "   "
   ]
  },
  {
   "cell_type": "markdown",
   "metadata": {},
   "source": [
    "## 1. Importing Python modules and initial setup<a name=\"import\"></a>\n",
    "--------------------------------------------------------"
   ]
  },
  {
   "cell_type": "code",
   "execution_count": 1,
   "metadata": {},
   "outputs": [],
   "source": [
    "import pyodbc\n",
    "import pandas as pd\n",
    "import numpy as np\n",
    "import matplotlib.pyplot as plt\n",
    "from scipy.stats import linregress\n",
    "\n",
    "%matplotlib inline \n",
    "#Jupyter inline magic command needed to display plots\n",
    "plt.style.use(\"ggplot\")\n",
    "#Setting different plot style than default\n",
    "pyodbc.pooling = False\n",
    "#For closing connection instantly, no hanging"
   ]
  },
  {
   "cell_type": "markdown",
   "metadata": {},
   "source": [
    "## 2. Connecting SQL server to Jupyter notebook<a name=\"connect\"></a>\n",
    "--------------------------------------------------------"
   ]
  },
  {
   "cell_type": "code",
   "execution_count": 2,
   "metadata": {},
   "outputs": [],
   "source": [
    "conn = pyodbc.connect('Driver={SQL Server};'\n",
    "                      'Server=DESKTOP-77H1C3V\\SQLEXPRESS;'\n",
    "                      'Database=US2018;'\n",
    "                      'Trusted_Connection=yes;')"
   ]
  },
  {
   "cell_type": "code",
   "execution_count": 3,
   "metadata": {},
   "outputs": [
    {
     "data": {
      "text/html": [
       "<div>\n",
       "<style scoped>\n",
       "    .dataframe tbody tr th:only-of-type {\n",
       "        vertical-align: middle;\n",
       "    }\n",
       "\n",
       "    .dataframe tbody tr th {\n",
       "        vertical-align: top;\n",
       "    }\n",
       "\n",
       "    .dataframe thead th {\n",
       "        text-align: right;\n",
       "    }\n",
       "</style>\n",
       "<table border=\"1\" class=\"dataframe\">\n",
       "  <thead>\n",
       "    <tr style=\"text-align: right;\">\n",
       "      <th></th>\n",
       "      <th>DBWT</th>\n",
       "      <th>DOB_MM</th>\n",
       "      <th>DOB_WK</th>\n",
       "      <th>SEX</th>\n",
       "      <th>MAGER</th>\n",
       "      <th>MEDUC</th>\n",
       "      <th>MRACE15</th>\n",
       "      <th>FRACE15</th>\n",
       "      <th>BMI</th>\n",
       "      <th>WTGAIN</th>\n",
       "    </tr>\n",
       "  </thead>\n",
       "  <tbody>\n",
       "    <tr>\n",
       "      <td>2752959</td>\n",
       "      <td>3562</td>\n",
       "      <td>8</td>\n",
       "      <td>2</td>\n",
       "      <td>F</td>\n",
       "      <td>31</td>\n",
       "      <td>5</td>\n",
       "      <td>1</td>\n",
       "      <td>1</td>\n",
       "      <td>31.3</td>\n",
       "      <td>51</td>\n",
       "    </tr>\n",
       "    <tr>\n",
       "      <td>1984760</td>\n",
       "      <td>2664</td>\n",
       "      <td>8</td>\n",
       "      <td>6</td>\n",
       "      <td>F</td>\n",
       "      <td>26</td>\n",
       "      <td>3</td>\n",
       "      <td>2</td>\n",
       "      <td>99</td>\n",
       "      <td>21.5</td>\n",
       "      <td>32</td>\n",
       "    </tr>\n",
       "    <tr>\n",
       "      <td>2018001</td>\n",
       "      <td>3336</td>\n",
       "      <td>2</td>\n",
       "      <td>6</td>\n",
       "      <td>M</td>\n",
       "      <td>27</td>\n",
       "      <td>4</td>\n",
       "      <td>1</td>\n",
       "      <td>1</td>\n",
       "      <td>22.3</td>\n",
       "      <td>27</td>\n",
       "    </tr>\n",
       "  </tbody>\n",
       "</table>\n",
       "</div>"
      ],
      "text/plain": [
       "         DBWT DOB_MM DOB_WK SEX  MAGER MEDUC MRACE15 FRACE15   BMI  WTGAIN\n",
       "2752959  3562      8      2   F     31     5       1       1  31.3      51\n",
       "1984760  2664      8      6   F     26     3       2      99  21.5      32\n",
       "2018001  3336      2      6   M     27     4       1       1  22.3      27"
      ]
     },
     "execution_count": 3,
     "metadata": {},
     "output_type": "execute_result"
    }
   ],
   "source": [
    "# Importing columns which will be analyzed to a dataframe object\n",
    "dfUS = pd.read_sql_query('''SELECT DBWT, DOB_MM, DOB_WK, SEX, MAGER, MEDUC, MRACE15, FRACE15, BMI, WTGAIN\n",
    "                                    FROM US2018.dbo.Births''', conn)\n",
    "conn.close()\n",
    "#Checking data on a small sample\n",
    "dfUS.sample(3)"
   ]
  },
  {
   "cell_type": "markdown",
   "metadata": {},
   "source": [
    "## 3. Columns explanation<a name=\"explanation\"></a>\n",
    "--------------------------------------------------------\n",
    "\n",
    "**DBWT** - Birth Weight – Detail in Grams {0227-8165 : Number of grams, 9999 : Not stated birth weight}\n",
    "\n",
    "**DOB_MM** - Birth Month\n",
    "\n",
    "**DOB_WK** - Birth Day of Week {1:Sunday, 2:Monday, 3: Tuesday, 4:Wednesday, 5: Thursday, 6: Friday, 7 : Saturday}\n",
    "\n",
    "**SEX** - Sex of Infant {M : Male, F : Female}\n",
    "\n",
    "**MAGER** - Mother's Age {50 is 50 and over}\n",
    "\n",
    "**MEDUC** - Mother's education { \n",
    "                                 1. : 8th grade or less,    \n",
    "                                 2. : 9th through 12th grade with no diploma,    \n",
    "                                 3. : High school graduate or GED completed,    \n",
    "                                 4. : Some college credit, but not a degree,    \n",
    "                                 5. : Associate degree (AA,AS),    \n",
    "                                 6. : Bachelor’s degree (BA, AB, BS),    \n",
    "                                 7. : Master’s degree (MA, MS, MEng, MEd, MSW, MBA),    \n",
    "                                 8. : Doctorate (PhD, EdD) or Professional Degree (MD, DDS, DVM, LLB, JD),   \n",
    "                                 9. : Unknown  }\n",
    "                             \n",
    "**MRACE15** - Mother's Race Recode 15 { \n",
    "                                        1. : White,\n",
    "                                        2. : Black,\n",
    "                                        3. : AIAN,\n",
    "                                        4. : Asian Indian,\n",
    "                                        5. : Chinese,\n",
    "                                        6. : Filipino,\n",
    "                                        7. : Japanese,\n",
    "                                        8. : Korean,\n",
    "                                        9. : Vietnamese,\n",
    "                                        10. : Other Asian,\n",
    "                                        11. : Hawaiian,\n",
    "                                        12. : Guamanian,\n",
    "                                        13. : Samoan,\n",
    "                                        14. : Other Pacific Islander,\n",
    "                                        15. : More than one race  }\n",
    "                                        \n",
    "**FRACE15** - Father's Race Recode 15 { Same codes as mother's + 99 : Unknown or Not stated }\n",
    "\n",
    "**BMI** - Body Mass Index of Mother { 13.0-69.9 : Body Mass Index, 99.9 : Unknown or Not stated }\n",
    "\n",
    "**WTGAIN** - Mother's Weight Gain {00-97 : Weight gain in pounds, 98 : 98 and over, 99 : Unknown or Not stated }\n",
    "________________________________________________________________________________________________\n",
    "\n",
    "Info from : <https://www.cdc.gov/nchs/data_access/vitalstatsonline.htm#Tools>  - User's guide 2018"
   ]
  },
  {
   "cell_type": "markdown",
   "metadata": {},
   "source": [
    "## 4. Exploring and cleaning data<a name=\"explore_main\"></a>\n",
    "------------------------------------------------------------------------"
   ]
  },
  {
   "cell_type": "markdown",
   "metadata": {},
   "source": [
    "### 4.1. Basic info about data<a name=\"explore_basic\"></a>"
   ]
  },
  {
   "cell_type": "code",
   "execution_count": 4,
   "metadata": {},
   "outputs": [
    {
     "name": "stdout",
     "output_type": "stream",
     "text": [
      "<class 'pandas.core.frame.DataFrame'>\n",
      "RangeIndex: 3801534 entries, 0 to 3801533\n",
      "Data columns (total 10 columns):\n",
      "DBWT       int64\n",
      "DOB_MM     object\n",
      "DOB_WK     object\n",
      "SEX        object\n",
      "MAGER      int64\n",
      "MEDUC      object\n",
      "MRACE15    object\n",
      "FRACE15    object\n",
      "BMI        float64\n",
      "WTGAIN     int64\n",
      "dtypes: float64(1), int64(3), object(6)\n",
      "memory usage: 290.0+ MB\n"
     ]
    }
   ],
   "source": [
    "dfUS.info()"
   ]
  },
  {
   "cell_type": "code",
   "execution_count": 5,
   "metadata": {},
   "outputs": [
    {
     "data": {
      "text/plain": [
       "DBWT       0\n",
       "DOB_MM     0\n",
       "DOB_WK     0\n",
       "SEX        0\n",
       "MAGER      0\n",
       "MEDUC      0\n",
       "MRACE15    0\n",
       "FRACE15    0\n",
       "BMI        0\n",
       "WTGAIN     0\n",
       "dtype: int64"
      ]
     },
     "execution_count": 5,
     "metadata": {},
     "output_type": "execute_result"
    }
   ],
   "source": [
    "dfUS.isnull().sum()"
   ]
  },
  {
   "cell_type": "markdown",
   "metadata": {},
   "source": [
    "No NULL values, no need to clean them."
   ]
  },
  {
   "cell_type": "markdown",
   "metadata": {},
   "source": [
    "### 4.2. Categorical variables<a name=\"explore_cat\"></a>"
   ]
  },
  {
   "cell_type": "code",
   "execution_count": 6,
   "metadata": {},
   "outputs": [
    {
     "name": "stdout",
     "output_type": "stream",
     "text": [
      "8     345687\n",
      "7     329851\n",
      "10    327740\n",
      "9     323685\n",
      "5     321448\n",
      "3     316824\n",
      "1     315593\n",
      "6     315585\n",
      "12    311581\n",
      "11    309475\n",
      "4     299125\n",
      "2     284940\n",
      "Name: DOB_MM, dtype: int64\n",
      "5    613402\n",
      "3    609389\n",
      "4    607452\n",
      "6    603900\n",
      "2    577010\n",
      "7    423123\n",
      "1    367258\n",
      "Name: DOB_WK, dtype: int64\n",
      "M    1943273\n",
      "F    1858261\n",
      "Name: SEX, dtype: int64\n",
      "3    968380\n",
      "6    776969\n",
      "4    752253\n",
      "7    358924\n",
      "2    358686\n",
      "5    314455\n",
      "1    118177\n",
      "8    104468\n",
      "9     49222\n",
      "Name: MEDUC, dtype: int64\n",
      "1     2797064\n",
      "2      601598\n",
      "15     100613\n",
      "4       76508\n",
      "5       56513\n",
      "10      48254\n",
      "3       36516\n",
      "6       31011\n",
      "9       20237\n",
      "8       14358\n",
      "14       7574\n",
      "7        6453\n",
      "13       2272\n",
      "12       1478\n",
      "11       1085\n",
      "Name: MRACE15, dtype: int64\n",
      "1     2316256\n",
      "99     686911\n",
      "2      473471\n",
      "15      78294\n",
      "4       74774\n",
      "5       47005\n",
      "10      39477\n",
      "3       24493\n",
      "6       20478\n",
      "9       15604\n",
      "8       11149\n",
      "14       5395\n",
      "7        3961\n",
      "13       2238\n",
      "12       1145\n",
      "11        883\n",
      "Name: FRACE15, dtype: int64\n"
     ]
    }
   ],
   "source": [
    "#Checking categorical variables, if they have some other values, other than those noted in columns explanation\n",
    "for col in dfUS.columns:\n",
    "    if dfUS[col].dtype==\"object\":\n",
    "        print(dfUS[col].value_counts())"
   ]
  },
  {
   "cell_type": "markdown",
   "metadata": {},
   "source": [
    "This looks good, all columns take values from explanation, there is no \"wrong\" values.    \n",
    "FRACE15 has a strange value - 99 - it's code for Unknown or not stated.    \n",
    "We can impose unknown values in FRACE15 - Father's race by mode value, but I chose rather not to do that, because number of rows with that value in FRACE15 column is pretty high, and that would produce misrepresenting data.\n",
    "Same thing with MEDUC - Mother's education - code 9."
   ]
  },
  {
   "cell_type": "markdown",
   "metadata": {},
   "source": [
    "### 4.3. Numerical variables<a name=\"explore_num\"></a>"
   ]
  },
  {
   "cell_type": "code",
   "execution_count": 7,
   "metadata": {
    "scrolled": false
   },
   "outputs": [
    {
     "data": {
      "text/html": [
       "<div>\n",
       "<style scoped>\n",
       "    .dataframe tbody tr th:only-of-type {\n",
       "        vertical-align: middle;\n",
       "    }\n",
       "\n",
       "    .dataframe tbody tr th {\n",
       "        vertical-align: top;\n",
       "    }\n",
       "\n",
       "    .dataframe thead th {\n",
       "        text-align: right;\n",
       "    }\n",
       "</style>\n",
       "<table border=\"1\" class=\"dataframe\">\n",
       "  <thead>\n",
       "    <tr style=\"text-align: right;\">\n",
       "      <th></th>\n",
       "      <th>DBWT</th>\n",
       "      <th>MAGER</th>\n",
       "      <th>BMI</th>\n",
       "      <th>WTGAIN</th>\n",
       "    </tr>\n",
       "  </thead>\n",
       "  <tbody>\n",
       "    <tr>\n",
       "      <td>count</td>\n",
       "      <td>3.801534e+06</td>\n",
       "      <td>3.801534e+06</td>\n",
       "      <td>3.801534e+06</td>\n",
       "      <td>3.801534e+06</td>\n",
       "    </tr>\n",
       "    <tr>\n",
       "      <td>mean</td>\n",
       "      <td>3.266895e+03</td>\n",
       "      <td>2.900903e+01</td>\n",
       "      <td>2.881701e+01</td>\n",
       "      <td>3.161657e+01</td>\n",
       "    </tr>\n",
       "    <tr>\n",
       "      <td>std</td>\n",
       "      <td>6.194423e+02</td>\n",
       "      <td>5.806026e+00</td>\n",
       "      <td>1.272350e+01</td>\n",
       "      <td>1.915435e+01</td>\n",
       "    </tr>\n",
       "    <tr>\n",
       "      <td>min</td>\n",
       "      <td>2.270000e+02</td>\n",
       "      <td>1.200000e+01</td>\n",
       "      <td>1.300000e+01</td>\n",
       "      <td>0.000000e+00</td>\n",
       "    </tr>\n",
       "    <tr>\n",
       "      <td>25%</td>\n",
       "      <td>2.960000e+03</td>\n",
       "      <td>2.500000e+01</td>\n",
       "      <td>2.230000e+01</td>\n",
       "      <td>2.000000e+01</td>\n",
       "    </tr>\n",
       "    <tr>\n",
       "      <td>50%</td>\n",
       "      <td>3.300000e+03</td>\n",
       "      <td>2.900000e+01</td>\n",
       "      <td>2.580000e+01</td>\n",
       "      <td>3.000000e+01</td>\n",
       "    </tr>\n",
       "    <tr>\n",
       "      <td>75%</td>\n",
       "      <td>3.629000e+03</td>\n",
       "      <td>3.300000e+01</td>\n",
       "      <td>3.110000e+01</td>\n",
       "      <td>4.000000e+01</td>\n",
       "    </tr>\n",
       "    <tr>\n",
       "      <td>max</td>\n",
       "      <td>9.999000e+03</td>\n",
       "      <td>5.000000e+01</td>\n",
       "      <td>9.990000e+01</td>\n",
       "      <td>9.900000e+01</td>\n",
       "    </tr>\n",
       "  </tbody>\n",
       "</table>\n",
       "</div>"
      ],
      "text/plain": [
       "               DBWT         MAGER           BMI        WTGAIN\n",
       "count  3.801534e+06  3.801534e+06  3.801534e+06  3.801534e+06\n",
       "mean   3.266895e+03  2.900903e+01  2.881701e+01  3.161657e+01\n",
       "std    6.194423e+02  5.806026e+00  1.272350e+01  1.915435e+01\n",
       "min    2.270000e+02  1.200000e+01  1.300000e+01  0.000000e+00\n",
       "25%    2.960000e+03  2.500000e+01  2.230000e+01  2.000000e+01\n",
       "50%    3.300000e+03  2.900000e+01  2.580000e+01  3.000000e+01\n",
       "75%    3.629000e+03  3.300000e+01  3.110000e+01  4.000000e+01\n",
       "max    9.999000e+03  5.000000e+01  9.990000e+01  9.900000e+01"
      ]
     },
     "execution_count": 7,
     "metadata": {},
     "output_type": "execute_result"
    }
   ],
   "source": [
    "dfUS.describe()"
   ]
  },
  {
   "cell_type": "markdown",
   "metadata": {},
   "source": [
    "Some variables (DBWT, BMI, WTGAIN) take strange values, look at max values, those are the values for Unknown or Not Stated. We are going to replace them accordingly to the explanation."
   ]
  },
  {
   "cell_type": "code",
   "execution_count": 8,
   "metadata": {},
   "outputs": [
    {
     "name": "stdout",
     "output_type": "stream",
     "text": [
      "DBWT: 0.07786330465543646 %\n",
      "BMI: 2.26750569638467 %\n",
      "WTGAIN: 3.0826503195815165 %\n"
     ]
    }
   ],
   "source": [
    "#Percent of unknown data in columns\n",
    "print(\"DBWT: {} %\".format(len(dfUS[dfUS.DBWT==9999])/len(dfUS)*100))\n",
    "print(\"BMI: {} %\".format(len(dfUS[dfUS.BMI==99.9])/len(dfUS)*100))\n",
    "print(\"WTGAIN: {} %\".format(len(dfUS[dfUS.WTGAIN==99])/len(dfUS)*100))"
   ]
  },
  {
   "cell_type": "markdown",
   "metadata": {},
   "source": [
    "Percentage of unknown data in DBWT column is rather low, so we can impute mean to unknown values.    \n",
    "Imputing mean to BMI and WTGAIN unknown is maybe not the best approach beacuse it will significantly change distribution of those variables.    \n",
    "It would be wiser to use approach like MICE(Multivariate Imputation by Chained Equation) or kNN imputation but I assume this is out of scope of this project, so we will use means for every variable."
   ]
  },
  {
   "cell_type": "code",
   "execution_count": 9,
   "metadata": {},
   "outputs": [],
   "source": [
    "# Calculating means without unknown values, we are going to use these means to impute unknown values\n",
    "DBWTmean=dfUS.DBWT[dfUS.DBWT!=9999].mean()\n",
    "BMImean=dfUS.BMI[dfUS.BMI!=99.9].mean()\n",
    "WTGAINmean=dfUS.WTGAIN[dfUS.WTGAIN!=99].mean()"
   ]
  },
  {
   "cell_type": "code",
   "execution_count": 10,
   "metadata": {},
   "outputs": [],
   "source": [
    "#Imputing unknown values with previously calculated means\n",
    "dfUS.loc[dfUS.DBWT==9999,\"DBWT\"]=DBWTmean # Low percentage of unknowns, we can impute mean instead of unknown\n",
    "dfUS.loc[dfUS.BMI==99.9,\"BMI\"]=BMImean\n",
    "dfUS.loc[dfUS.WTGAIN==99,\"WTGAIN\"]=WTGAINmean\n",
    "\n",
    "# Transforming WTGAIN to kilograms because it is in pounds and adding that column to dataframe\n",
    "dfUS[\"WTGAIN_kg\"]=dfUS[\"WTGAIN\"]/2.2046"
   ]
  },
  {
   "cell_type": "code",
   "execution_count": 11,
   "metadata": {},
   "outputs": [
    {
     "data": {
      "text/html": [
       "<div>\n",
       "<style scoped>\n",
       "    .dataframe tbody tr th:only-of-type {\n",
       "        vertical-align: middle;\n",
       "    }\n",
       "\n",
       "    .dataframe tbody tr th {\n",
       "        vertical-align: top;\n",
       "    }\n",
       "\n",
       "    .dataframe thead th {\n",
       "        text-align: right;\n",
       "    }\n",
       "</style>\n",
       "<table border=\"1\" class=\"dataframe\">\n",
       "  <thead>\n",
       "    <tr style=\"text-align: right;\">\n",
       "      <th></th>\n",
       "      <th>DBWT</th>\n",
       "      <th>MAGER</th>\n",
       "      <th>BMI</th>\n",
       "      <th>WTGAIN</th>\n",
       "      <th>WTGAIN_kg</th>\n",
       "    </tr>\n",
       "  </thead>\n",
       "  <tbody>\n",
       "    <tr>\n",
       "      <td>count</td>\n",
       "      <td>3.801534e+06</td>\n",
       "      <td>3.801534e+06</td>\n",
       "      <td>3.801534e+06</td>\n",
       "      <td>3.801534e+06</td>\n",
       "      <td>3.801534e+06</td>\n",
       "    </tr>\n",
       "    <tr>\n",
       "      <td>mean</td>\n",
       "      <td>3.261649e+03</td>\n",
       "      <td>2.900903e+01</td>\n",
       "      <td>2.716780e+01</td>\n",
       "      <td>2.947331e+01</td>\n",
       "      <td>1.336900e+01</td>\n",
       "    </tr>\n",
       "    <tr>\n",
       "      <td>std</td>\n",
       "      <td>5.902479e+02</td>\n",
       "      <td>5.806026e+00</td>\n",
       "      <td>6.682581e+00</td>\n",
       "      <td>1.491537e+01</td>\n",
       "      <td>6.765569e+00</td>\n",
       "    </tr>\n",
       "    <tr>\n",
       "      <td>min</td>\n",
       "      <td>2.270000e+02</td>\n",
       "      <td>1.200000e+01</td>\n",
       "      <td>1.300000e+01</td>\n",
       "      <td>0.000000e+00</td>\n",
       "      <td>0.000000e+00</td>\n",
       "    </tr>\n",
       "    <tr>\n",
       "      <td>25%</td>\n",
       "      <td>2.960000e+03</td>\n",
       "      <td>2.500000e+01</td>\n",
       "      <td>2.230000e+01</td>\n",
       "      <td>2.000000e+01</td>\n",
       "      <td>9.071940e+00</td>\n",
       "    </tr>\n",
       "    <tr>\n",
       "      <td>50%</td>\n",
       "      <td>3.300000e+03</td>\n",
       "      <td>2.900000e+01</td>\n",
       "      <td>2.580000e+01</td>\n",
       "      <td>2.947331e+01</td>\n",
       "      <td>1.336900e+01</td>\n",
       "    </tr>\n",
       "    <tr>\n",
       "      <td>75%</td>\n",
       "      <td>3.629000e+03</td>\n",
       "      <td>3.300000e+01</td>\n",
       "      <td>3.050000e+01</td>\n",
       "      <td>3.800000e+01</td>\n",
       "      <td>1.723669e+01</td>\n",
       "    </tr>\n",
       "    <tr>\n",
       "      <td>max</td>\n",
       "      <td>8.165000e+03</td>\n",
       "      <td>5.000000e+01</td>\n",
       "      <td>6.990000e+01</td>\n",
       "      <td>9.800000e+01</td>\n",
       "      <td>4.445251e+01</td>\n",
       "    </tr>\n",
       "  </tbody>\n",
       "</table>\n",
       "</div>"
      ],
      "text/plain": [
       "               DBWT         MAGER           BMI        WTGAIN     WTGAIN_kg\n",
       "count  3.801534e+06  3.801534e+06  3.801534e+06  3.801534e+06  3.801534e+06\n",
       "mean   3.261649e+03  2.900903e+01  2.716780e+01  2.947331e+01  1.336900e+01\n",
       "std    5.902479e+02  5.806026e+00  6.682581e+00  1.491537e+01  6.765569e+00\n",
       "min    2.270000e+02  1.200000e+01  1.300000e+01  0.000000e+00  0.000000e+00\n",
       "25%    2.960000e+03  2.500000e+01  2.230000e+01  2.000000e+01  9.071940e+00\n",
       "50%    3.300000e+03  2.900000e+01  2.580000e+01  2.947331e+01  1.336900e+01\n",
       "75%    3.629000e+03  3.300000e+01  3.050000e+01  3.800000e+01  1.723669e+01\n",
       "max    8.165000e+03  5.000000e+01  6.990000e+01  9.800000e+01  4.445251e+01"
      ]
     },
     "execution_count": 11,
     "metadata": {},
     "output_type": "execute_result"
    }
   ],
   "source": [
    "dfUS.describe()"
   ]
  },
  {
   "cell_type": "markdown",
   "metadata": {},
   "source": [
    "This seems better now. We can now go into some analysis and visualisation."
   ]
  },
  {
   "cell_type": "markdown",
   "metadata": {},
   "source": [
    "## 5. Data analysis and visualisation\n",
    "--------------------------------------------------------------"
   ]
  },
  {
   "cell_type": "markdown",
   "metadata": {},
   "source": [
    "### 5.1. Distribution of numericals<a name=\"dvad_distributionn\"></a>"
   ]
  },
  {
   "cell_type": "code",
   "execution_count": 12,
   "metadata": {},
   "outputs": [
    {
     "data": {
      "image/png": "[encoded data removed]",
      "text/plain": [
       "<Figure size 432x288 with 4 Axes>"
      ]
     },
     "metadata": {
      "needs_background": "light"
     },
     "output_type": "display_data"
    }
   ],
   "source": [
    "# Distribution  histograms\n",
    "plt.subplot(221)\n",
    "plt.hist(dfUS.DBWT, bins=100)\n",
    "plt.xlabel(\"Value in grams\")\n",
    "plt.ylabel(\"Count\")\n",
    "plt.title(\"Birth weight\")\n",
    "plt.xlim(0, 6000)\n",
    "\n",
    "plt.subplot(222)\n",
    "plt.hist(dfUS.BMI, bins=100, color=\"blue\")\n",
    "plt.xlabel(\"Value\")\n",
    "plt.ylabel(\"Count\")\n",
    "plt.title(\"Mother's body mass index\")\n",
    "plt.xlim(10, dfUS[\"BMI\"].max())\n",
    "\n",
    "plt.subplot(223)\n",
    "plt.hist(dfUS.MAGER, bins=39, color=\"orange\")\n",
    "plt.xlabel(\"Value\")\n",
    "plt.ylabel(\"Count\")\n",
    "plt.title(\"Mother's age\")\n",
    "plt.xlim(10, 50)\n",
    "\n",
    "plt.subplot(224)\n",
    "plt.hist(dfUS.WTGAIN_kg, bins=99,color=\"green\")\n",
    "plt.xlabel(\"Value in kg\")\n",
    "plt.ylabel(\"Count\")\n",
    "plt.title(\"Mother's weight gain\")\n",
    "plt.xlim(0, dfUS[\"WTGAIN_kg\"].max())\n",
    "\n",
    "plt.subplots_adjust(bottom=-1, right=2, top=1)\n",
    "plt.show()"
   ]
  },
  {
   "cell_type": "markdown",
   "metadata": {},
   "source": [
    "All of the variables have more or less normal bell shaped distributions.    \n",
    "Mother's weight gain peak is a bit high beacuse of imposing unknown values with mean."
   ]
  },
  {
   "cell_type": "code",
   "execution_count": 13,
   "metadata": {},
   "outputs": [
    {
     "data": {
      "image/png": "[encoded data removed]",
      "text/plain": [
       "<Figure size 432x288 with 4 Axes>"
      ]
     },
     "metadata": {
      "needs_background": "light"
     },
     "output_type": "display_data"
    }
   ],
   "source": [
    "#Box and whisker plots\n",
    "plt.subplot(221)\n",
    "plt.boxplot(dfUS.DBWT)\n",
    "plt.title(\"Birth weight\")\n",
    "\n",
    "plt.subplot(222)\n",
    "plt.boxplot(dfUS.BMI)\n",
    "plt.title(\"Mother's body mass index\")\n",
    "\n",
    "plt.subplot(223)\n",
    "plt.boxplot(dfUS.MAGER)\n",
    "plt.title(\"Mother's age\")\n",
    "\n",
    "plt.subplot(224)\n",
    "plt.boxplot(dfUS.WTGAIN_kg)\n",
    "plt.title(\"Mother's weight gain\")\n",
    "\n",
    "plt.subplots_adjust(bottom=-1, right=2, top=1)\n",
    "plt.show()"
   ]
  },
  {
   "cell_type": "markdown",
   "metadata": {},
   "source": [
    "Note: Default whiskers are 1.5xIQR.    \n",
    "We can see that our numerical variables have much outlier values, but this is kind of  expected in a large dataset like this one."
   ]
  },
  {
   "cell_type": "markdown",
   "metadata": {},
   "source": [
    "### 5.2. Distribution of categoricals<a name=\"dvad_distributionc\"></a>"
   ]
  },
  {
   "cell_type": "code",
   "execution_count": 14,
   "metadata": {},
   "outputs": [
    {
     "data": {
      "image/png": "[encoded data removed]",
      "text/plain": [
       "<Figure size 432x288 with 1 Axes>"
      ]
     },
     "metadata": {
      "needs_background": "light"
     },
     "output_type": "display_data"
    }
   ],
   "source": [
    "# Bar plot of Birth day of week\n",
    "\n",
    "DOBWK=dfUS.DOB_WK.value_counts().sort_index(ascending=False)\n",
    "\n",
    "plt.barh(y=DOBWK.index,width=DOBWK.values)\n",
    "plt.title(\"Birth day of week\")\n",
    "plt.xlabel(\"Babies born\")\n",
    "plt.yticks(DOBWK.index, ('Sat', 'Fri', 'Thu', 'Wed', 'Tue', 'Mon', 'Sun'))\n",
    "plt.show()"
   ]
  },
  {
   "cell_type": "markdown",
   "metadata": {},
   "source": [
    "We can see that most babies were born in the middle of the week, more specifically, most of them were born on Thursday."
   ]
  },
  {
   "cell_type": "code",
   "execution_count": 15,
   "metadata": {},
   "outputs": [
    {
     "data": {
      "image/png": "[encoded data removed]",
      "text/plain": [
       "<Figure size 432x288 with 1 Axes>"
      ]
     },
     "metadata": {
      "needs_background": "light"
     },
     "output_type": "display_data"
    }
   ],
   "source": [
    "# Bar plot of Birth month\n",
    "\n",
    "DOBMM=dfUS.DOB_MM.astype(str).astype(int).value_counts().sort_index(ascending=True)\n",
    "\n",
    "plt.barh(y=DOBMM.index,width=DOBMM.values,color=\"orange\")\n",
    "plt.title(\"Birth month\")\n",
    "plt.xlabel(\"Babies born\")\n",
    "plt.yticks(DOBMM.index, ('Jan.', 'Feb.', 'Mar.', 'Apr.', 'May', 'Jun.', 'Jul.', 'Aug.', 'Sep.', 'Oct', 'Nov.', 'Dec.' ))\n",
    "plt.show()"
   ]
  },
  {
   "cell_type": "markdown",
   "metadata": {},
   "source": [
    "August is the month most babies were born in 2018. in US."
   ]
  },
  {
   "cell_type": "code",
   "execution_count": 16,
   "metadata": {},
   "outputs": [
    {
     "data": {
      "image/png": "[encoded data removed]",
      "text/plain": [
       "<Figure size 432x288 with 1 Axes>"
      ]
     },
     "metadata": {},
     "output_type": "display_data"
    }
   ],
   "source": [
    "# Pie chart of sex distribution of the babies\n",
    "\n",
    "slices=dfUS.SEX.value_counts().values\n",
    "lab=dfUS.SEX.value_counts().index\n",
    "cols = [\"blue\",\"red\"]\n",
    "\n",
    "plt.pie(slices,labels=lab,colors=cols,startangle=90,shadow= True,explode=(0,0.05),autopct='%1.2f%%')\n",
    "plt.title('Babies born by Sex')\n",
    "plt.show()"
   ]
  },
  {
   "cell_type": "markdown",
   "metadata": {},
   "source": [
    "There were more male than female babies born in 2018. in the US."
   ]
  },
  {
   "cell_type": "code",
   "execution_count": 17,
   "metadata": {},
   "outputs": [
    {
     "name": "stdout",
     "output_type": "stream",
     "text": [
      "                        MRACE15      %\n",
      "White                   2797064  73.58\n",
      "Black                    601598  15.83\n",
      "More than one race       100613   2.65\n",
      "Asian Indian              76508   2.01\n",
      "Chinese                   56513   1.49\n",
      "Other Asian               48254   1.27\n",
      "AIAN                      36516   0.96\n",
      "Filipino                  31011   0.82\n",
      "Vietnamese                20237   0.53\n",
      "Korean                    14358   0.38\n",
      "Other Pacific Islander     7574   0.20\n",
      "Japanese                   6453   0.17\n",
      "Samoan                     2272   0.06\n",
      "Guamanian                  1478   0.04\n",
      "Hawaiian                   1085   0.03\n",
      "\n",
      "\n",
      "                        FRACE15      %\n",
      "White                   2316256  60.93\n",
      "Unknown                  686911  18.07\n",
      "Black                    473471  12.45\n",
      "More than one race        78294   2.06\n",
      "Asian Indian              74774   1.97\n",
      "Chinese                   47005   1.24\n",
      "Other Asian               39477   1.04\n",
      "AIAN                      24493   0.64\n",
      "Filipino                  20478   0.54\n",
      "Vietnamese                15604   0.41\n",
      "Korean                    11149   0.29\n",
      "Other Pacific Islander     5395   0.14\n",
      "Japanese                   3961   0.10\n",
      "Samoan                     2238   0.06\n",
      "Guamanian                  1145   0.03\n",
      "Hawaiian                    883   0.02\n"
     ]
    }
   ],
   "source": [
    "# Frequency tables of Mother's and Father's race\n",
    "freq_mrace15=dfUS.MRACE15.astype(str).astype(int).value_counts().sort_values(ascending=False)\n",
    "freq_frace15=dfUS.FRACE15.astype(str).astype(int).value_counts().sort_values(ascending=False)\n",
    "\n",
    "race_codes={1:\"White\", 2:\"Black\", 3:\"AIAN\", 4:\"Asian Indian\", 5:\"Chinese\", 6:\"Filipino\", 7:\"Japanese\", 8:\"Korean\",\n",
    "            9:\"Vietnamese\", 10:\"Other Asian\",11:\"Hawaiian\",12:\"Guamanian\",13:\"Samoan\",14:\"Other Pacific Islander\",\n",
    "            15:\"More than one race\",99:\"Unknown\"}\n",
    "freq_mrace15=freq_mrace15.to_frame()\n",
    "freq_frace15=freq_frace15.to_frame()\n",
    "freq_mrace15[\"%\"]=np.round(freq_mrace15.values/len(dfUS)*100,2)\n",
    "freq_frace15[\"%\"]=np.round(freq_frace15.values/len(dfUS)*100,2)\n",
    "\n",
    "print(freq_mrace15.rename(index=race_codes))\n",
    "print(\"\\n\")\n",
    "print(freq_frace15.rename(index=race_codes))"
   ]
  },
  {
   "cell_type": "markdown",
   "metadata": {},
   "source": [
    "Most mothers were white, black and more than one race.    \n",
    "Most fathers were white, unknown and black."
   ]
  },
  {
   "cell_type": "code",
   "execution_count": 18,
   "metadata": {},
   "outputs": [
    {
     "name": "stdout",
     "output_type": "stream",
     "text": [
      "                                                MEDUC      %\n",
      "High school graduate or GED completed          968380  25.47\n",
      "Bachelor’s degree (BA, AB, BS)                 776969  20.44\n",
      "Some college credit, but not a degree          752253  19.79\n",
      "Master’s degree (MA, MS, MEng, MEd, MSW, MBA)  358924   9.44\n",
      "9th through 12th grade with no diploma         358686   9.44\n",
      "Associate degree (AA,AS)                       314455   8.27\n",
      "8th grade or less                              118177   3.11\n",
      "Doctorate (PhD, EdD) or Professional Degree    104468   2.75\n",
      "Unknown                                         49222   1.29\n"
     ]
    }
   ],
   "source": [
    "# Frequency table of Mother's eduction\n",
    "freq_meduc=dfUS.MEDUC.astype(str).astype(int).value_counts().sort_values(ascending=False)\n",
    "\n",
    "codes={1:\"8th grade or less\", 2:\"9th through 12th grade with no diploma\", 3:\"High school graduate or GED completed\",\n",
    "            4:\"Some college credit, but not a degree\", 5:\"Associate degree (AA,AS)\", 6:\"Bachelor’s degree (BA, AB, BS)\",\n",
    "            7:\"Master’s degree (MA, MS, MEng, MEd, MSW, MBA)\", 8:\"Doctorate (PhD, EdD) or Professional Degree\",9:\"Unknown\"}\n",
    "\n",
    "freq_meduc=freq_meduc.to_frame()\n",
    "freq_meduc[\"%\"]=np.round(freq_meduc.values/len(dfUS)*100,2)\n",
    "\n",
    "print(freq_meduc.rename(index=codes))"
   ]
  },
  {
   "cell_type": "markdown",
   "metadata": {},
   "source": [
    "Most mothers were high school level educated, followed by bachelor's degree level."
   ]
  },
  {
   "cell_type": "markdown",
   "metadata": {},
   "source": [
    "### 5.3. Variable relationship<a name=\"dvad_rel\"></a>"
   ]
  },
  {
   "cell_type": "code",
   "execution_count": 19,
   "metadata": {
    "scrolled": true
   },
   "outputs": [
    {
     "data": {
      "image/png": "[encoded data removed]",
      "text/plain": [
       "<Figure size 432x288 with 1 Axes>"
      ]
     },
     "metadata": {
      "needs_background": "light"
     },
     "output_type": "display_data"
    }
   ],
   "source": [
    "# Let's see if there is a relationship between baby's sex and its weight on birth\n",
    "\n",
    "plt.barh(y=dfUS.groupby(\"SEX\").mean()[\"DBWT\"].index,width=dfUS.groupby(\"SEX\").mean()[\"DBWT\"].values,height=0.5)\n",
    "plt.xlabel(\"Average weight of baby\")\n",
    "plt.ylabel(\"Sex\")\n",
    "plt.show()"
   ]
  },
  {
   "cell_type": "markdown",
   "metadata": {},
   "source": [
    "Male babies are heavier on average."
   ]
  },
  {
   "cell_type": "code",
   "execution_count": 20,
   "metadata": {
    "scrolled": true
   },
   "outputs": [
    {
     "data": {
      "image/png": "[encoded data removed]",
      "text/plain": [
       "<Figure size 432x288 with 1 Axes>"
      ]
     },
     "metadata": {
      "needs_background": "light"
     },
     "output_type": "display_data"
    }
   ],
   "source": [
    "# Mother's race and birth weight\n",
    "mrace=dfUS.groupby(\"MRACE15\").mean()[\"DBWT\"].sort_values()\n",
    "plt.barh(y=mrace.index,width=mrace.values)\n",
    "plt.xlabel(\"Average weight of baby\")\n",
    "plt.ylabel(\"Mother's race\")\n",
    "plt.show()"
   ]
  },
  {
   "cell_type": "markdown",
   "metadata": {},
   "source": [
    "Mothers with code 13(Samoan) carry heaviest babies on average."
   ]
  },
  {
   "cell_type": "code",
   "execution_count": 21,
   "metadata": {
    "scrolled": true
   },
   "outputs": [
    {
     "data": {
      "image/png": "[encoded data removed]",
      "text/plain": [
       "<Figure size 432x288 with 1 Axes>"
      ]
     },
     "metadata": {
      "needs_background": "light"
     },
     "output_type": "display_data"
    }
   ],
   "source": [
    "# Father's race and birth weight\n",
    "frace=dfUS.groupby(\"FRACE15\").mean()[\"DBWT\"].sort_values()\n",
    "plt.barh(y=frace.index,width=frace.values,color=\"lightblue\")\n",
    "plt.xlabel(\"Average weight of baby\")\n",
    "plt.ylabel(\"Father's race\")\n",
    "plt.show()\n"
   ]
  },
  {
   "cell_type": "markdown",
   "metadata": {},
   "source": [
    "On average the heaviest babies are of Samoan fathers."
   ]
  },
  {
   "cell_type": "code",
   "execution_count": 22,
   "metadata": {
    "scrolled": true
   },
   "outputs": [
    {
     "data": {
      "image/png": "[encoded data removed]",
      "text/plain": [
       "<Figure size 432x288 with 1 Axes>"
      ]
     },
     "metadata": {
      "needs_background": "light"
     },
     "output_type": "display_data"
    }
   ],
   "source": [
    "# Mother's age and her education\n",
    "# Let's see if mother's age at first birth has correlation with her education\n",
    "# How will we know was this her first birth? We need to pull some more variables from SQL server\n",
    "conn = pyodbc.connect('Driver={SQL Server};'\n",
    "                      'Server=DESKTOP-77H1C3V\\SQLEXPRESS;'\n",
    "                      'Database=US2018;'\n",
    "                      'Trusted_Connection=yes;')\n",
    "\n",
    "Prior = pd.read_sql_query('''SELECT PRIORLIVE, PRIORDEAD FROM US2018.dbo.Births''', conn)\n",
    "conn.close()\n",
    "dfUS2=dfUS.join(Prior)\n",
    "# Boolean subset -  no prior living or dead childrean, and excluding unknown education level, using literals (\"0\")\n",
    "# because those variables are dtype object (string like)\n",
    "data=dfUS2[(dfUS2.PRIORLIVE==\"0\")&(dfUS2.PRIORDEAD==\"0\")&(dfUS2.MEDUC!=\"9\")].groupby(\"MEDUC\").mean()[\"MAGER\"]\n",
    "\n",
    "\n",
    "plt.barh(y=data.index,width=data.values,height=0.5)\n",
    "plt.ylabel(\"Mother's education\")\n",
    "plt.xlabel(\"Mother's age at first birth\")\n",
    "plt.yticks(np.arange(8), ('8th', '9th-12th', 'High School', 'College', \n",
    "                          'Associate', 'Bachelors', 'Masters', 'PhD'))\n",
    "plt.show()"
   ]
  },
  {
   "cell_type": "markdown",
   "metadata": {},
   "source": [
    "We can see that there is a trend. Lower the mother's education level is lower is her first birth age."
   ]
  },
  {
   "cell_type": "code",
   "execution_count": 23,
   "metadata": {},
   "outputs": [
    {
     "data": {
      "image/png": "[encoded data removed]",
      "text/plain": [
       "<Figure size 432x288 with 1 Axes>"
      ]
     },
     "metadata": {
      "needs_background": "light"
     },
     "output_type": "display_data"
    },
    {
     "name": "stdout",
     "output_type": "stream",
     "text": [
      "Pearson's r: 0.16362583538411346\n",
      "\n",
      "R-squared: 0.026773414005148998\n"
     ]
    }
   ],
   "source": [
    "# Birth weight and mother's weight gain\n",
    "\n",
    "#Only first 500 points - for clarity of plot\n",
    "plt.scatter(dfUS.WTGAIN_kg[:500], dfUS.DBWT[:500], label=\"Data points\",alpha=0.5)\n",
    "plt.xlabel(\"Mother's weight gain\")\n",
    "plt.ylabel(\"Baby's weight\")\n",
    "plt.ylim(0, 6000)\n",
    "\n",
    "lin_reg=linregress(dfUS.WTGAIN_kg,dfUS.DBWT)\n",
    "\n",
    "plt.plot(dfUS.WTGAIN_kg, lin_reg.intercept + lin_reg.slope*dfUS.WTGAIN_kg, color=\"black\", label='Fitted line')\n",
    "plt.legend(loc=\"upper right\")\n",
    "plt.show()\n",
    "\n",
    "print(\"Pearson's r: {}\\n\".format(lin_reg.rvalue))\n",
    "print(\"R-squared: {}\" .format(lin_reg.rvalue**2))"
   ]
  },
  {
   "cell_type": "markdown",
   "metadata": {},
   "source": [
    "Although scatter plot looks there is no correlation.There is a very weak positive correlation according to calculated correlation coef."
   ]
  },
  {
   "cell_type": "code",
   "execution_count": 24,
   "metadata": {
    "scrolled": true
   },
   "outputs": [
    {
     "data": {
      "image/png": "[encoded data removed]",
      "text/plain": [
       "<Figure size 432x288 with 1 Axes>"
      ]
     },
     "metadata": {
      "needs_background": "light"
     },
     "output_type": "display_data"
    },
    {
     "name": "stdout",
     "output_type": "stream",
     "text": [
      "Pearson's r: 0.06108747476315348\n",
      "\n",
      "R-squared: 0.0037316795729389132\n"
     ]
    }
   ],
   "source": [
    "# Birth weight and mother's body mass index\n",
    "\n",
    "#Only first 500 points - for clarity of plot\n",
    "plt.scatter(dfUS.BMI[:500], dfUS.DBWT[:500], label=\"Data points\",alpha=0.5)\n",
    "plt.xlabel(\"Mother's body mass index\")\n",
    "plt.ylabel(\"Baby's weight\")\n",
    "\n",
    "lin_reg=linregress(dfUS.BMI,dfUS.DBWT)\n",
    "\n",
    "plt.plot(dfUS.BMI, lin_reg.intercept + lin_reg.slope*dfUS.BMI, color=\"black\", label='Fitted line')\n",
    "plt.legend(loc=\"upper right\")\n",
    "plt.show()\n",
    "\n",
    "print(\"Pearson's r: {}\\n\".format(lin_reg.rvalue))\n",
    "print(\"R-squared: {}\" .format(lin_reg.rvalue**2))"
   ]
  },
  {
   "cell_type": "markdown",
   "metadata": {},
   "source": [
    "Even less correlation between baby's weight and mother's body mass index. "
   ]
  }
 ],
 "metadata": {
  "kernelspec": {
   "display_name": "Python 3",
   "language": "python",
   "name": "python3"
  },
  "language_info": {
   "codemirror_mode": {
    "name": "ipython",
    "version": 3
   },
   "file_extension": ".py",
   "mimetype": "text/x-python",
   "name": "python",
   "nbconvert_exporter": "python",
   "pygments_lexer": "ipython3",
   "version": "3.7.4"
  }
 },
 "nbformat": 4,
 "nbformat_minor": 2
}
